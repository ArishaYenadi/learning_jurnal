{
  "nbformat": 4,
  "nbformat_minor": 0,
  "metadata": {
    "colab": {
      "name": "conditional_and_looping.ipynb",
      "provenance": []
    },
    "kernelspec": {
      "name": "python3",
      "display_name": "Python 3"
    },
    "language_info": {
      "name": "python"
    }
  },
  "cells": [
    {
      "cell_type": "code",
      "execution_count": 12,
      "metadata": {
        "colab": {
          "base_uri": "https://localhost:8080/"
        },
        "id": "TzOcBXWhxZxv",
        "outputId": "bbc05352-3562-468b-8e0e-1198428475d5"
      },
      "outputs": [
        {
          "output_type": "stream",
          "name": "stdout",
          "text": [
            "isi variable angka adalah 5\n",
            "5 lebih kecil dari 10\n",
            "5 lebih kecil dari 10\n",
            "masih dibawah if\n",
            "ini sudah diluar if\n"
          ]
        }
      ],
      "source": [
        "angka = 5\n",
        "print(f\"isi variable angka adalah {angka}\")\n",
        "if False:\n",
        "  print(f\"{angka} lebih kecil dari 10\")\n",
        "if True:\n",
        "  print(f\"{angka} lebih kecil dari 10\")\n",
        "if angka < 10:\n",
        "  print(f\"{angka} lebih kecil dari 10\")\n",
        "  print(\"masih dibawah if\")\n",
        "print(\"ini sudah diluar if\")"
      ]
    },
    {
      "cell_type": "code",
      "source": [
        "# if-else\n",
        "angka = 7\n",
        "print(f\"isi variable angka adalah {angka}\")\n",
        "if angka < 10:\n",
        "  print(f\"{angka} lebih kecil dari 10\")\n",
        "else:\n",
        "  print(f\"{angka}lebih besar dari 10\")"
      ],
      "metadata": {
        "colab": {
          "base_uri": "https://localhost:8080/"
        },
        "id": "PQW9Dup4x8ZX",
        "outputId": "89b71f7b-00f6-4ecf-e3a4-1342b829a394"
      },
      "execution_count": 23,
      "outputs": [
        {
          "output_type": "stream",
          "name": "stdout",
          "text": [
            "isi variable angka adalah 7\n",
            "7 lebih kecil dari 10\n"
          ]
        }
      ]
    },
    {
      "cell_type": "code",
      "source": [
        "# Jika ada kondisi if, elif, else\n",
        "angka = 10\n",
        "print(f\"isi variable angka adalah {angka}\")\n",
        "if angka == 10:\n",
        "  print(f\"{angka} sama dengan 10\")\n",
        "elif angka < 10:\n",
        "  print(f\"{angka} lebih kecil dari 10\")\n",
        "else:\n",
        "  print(f\"{angka} lebih besar dari 10\")\n"
      ],
      "metadata": {
        "colab": {
          "base_uri": "https://localhost:8080/"
        },
        "id": "6c35LpXN3wEF",
        "outputId": "0bf1dc91-c3c3-4256-8462-ccf08bb22c66"
      },
      "execution_count": 26,
      "outputs": [
        {
          "output_type": "stream",
          "name": "stdout",
          "text": [
            "isi variable angka adalah 10\n",
            "10 sama dengan 10\n"
          ]
        }
      ]
    },
    {
      "cell_type": "code",
      "source": [
        "# Cara 1 (ganjil genap)\n",
        "angka = 7\n",
        "if angka %2 == 0:\n",
        "  print(f\"{angka} adalah genap\")\n",
        "else:\n",
        "  print (f\"{angka} adalah ganjil\")"
      ],
      "metadata": {
        "colab": {
          "base_uri": "https://localhost:8080/"
        },
        "id": "PFlcCgh61w0M",
        "outputId": "43880772-7ad6-41ad-ac31-f62b086c43cf"
      },
      "execution_count": 19,
      "outputs": [
        {
          "output_type": "stream",
          "name": "stdout",
          "text": [
            "7 adalah ganjil\n"
          ]
        }
      ]
    },
    {
      "cell_type": "code",
      "source": [
        "# Cara 2 (ganjil genap)\n",
        "angka = 9\n",
        "if (angka % 2):\n",
        "  print(f\"{angka} bilangan ganjil\")\n",
        "else:\n",
        "  print(f\"{angka} bilangan genap\")"
      ],
      "metadata": {
        "colab": {
          "base_uri": "https://localhost:8080/"
        },
        "id": "JHnqoCOz2rt1",
        "outputId": "a39cc537-f13b-4a5e-a52d-56e8077fccef"
      },
      "execution_count": 21,
      "outputs": [
        {
          "output_type": "stream",
          "name": "stdout",
          "text": [
            "9 bilangan ganjil\n"
          ]
        }
      ]
    },
    {
      "cell_type": "code",
      "source": [
        "# Studi Kasus 1\n",
        "buahbuahan = [\"pepaya\", \"manga\", \"pisang\", \"jambu\", \"jeruk\"]\n",
        "if len (buahbuahan) > 3:\n",
        "  print(\"mampir ke toko buah, cari jeruk\")\n",
        "  if 'jeruk' in buahbuahan:\n",
        "    print(\"beli jeruk\")\n",
        "  else:\n",
        "    print(\"tidak ada jeruk\")\n",
        "else:\n",
        "  print(\"skip, buah-buahan yang dijual kurang variatif\")"
      ],
      "metadata": {
        "colab": {
          "base_uri": "https://localhost:8080/"
        },
        "id": "Nk1C-8ID5Cbh",
        "outputId": "09f3be3f-62c8-4a3e-81d9-c02c42dd1481"
      },
      "execution_count": 27,
      "outputs": [
        {
          "output_type": "stream",
          "name": "stdout",
          "text": [
            "mampir ke toko buah, cari jeruk\n",
            "beli jeruk\n"
          ]
        }
      ]
    },
    {
      "cell_type": "code",
      "source": [
        "# Studi Kasus 2\n",
        "buahbuahan = [\"pepaya\", \"manga\", \"pisang\", \"jambu\"]\n",
        "if len (buahbuahan) > 3:\n",
        "  print(\"mampir ke toko buah, cari jeruk\")\n",
        "  if 'jeruk' in buahbuahan:\n",
        "    print(\"beli jeruk\")\n",
        "  else:\n",
        "    print(\"tidak ada jeruk\")\n",
        "else:\n",
        "  print(\"skip, buah-buahan yang dijual kurang variatif\")"
      ],
      "metadata": {
        "colab": {
          "base_uri": "https://localhost:8080/"
        },
        "id": "_7O6KOwi6vh-",
        "outputId": "35a5d4e4-2639-419e-d408-3cc622bd5fb6"
      },
      "execution_count": 28,
      "outputs": [
        {
          "output_type": "stream",
          "name": "stdout",
          "text": [
            "mampir ke toko buah, cari jeruk\n",
            "tidak ada jeruk\n"
          ]
        }
      ]
    },
    {
      "cell_type": "code",
      "source": [
        "# studi kasus 3\n",
        "buahbuahan = [\"pepaya\", \"manga\", \"pisang\", \"jambu\"]\n",
        "if len (buahbuahan) > 3:\n",
        "  print(\"mampir ke toko buah, cari jeruk\")\n",
        "  if 'jeruk' in buahbuahan:\n",
        "    print(\"beli jeruk\")\n",
        "  else:\n",
        "    print(\"tidak ada jeruk\")\n",
        "    if 'manga' in buahbuahan:\n",
        "      print(\"beli manga aja deh\")\n",
        "else:\n",
        "  print(\"skip, buah-buahan yang dijual kurang variatif\")"
      ],
      "metadata": {
        "colab": {
          "base_uri": "https://localhost:8080/"
        },
        "id": "jEM-s0rr67Nt",
        "outputId": "7eb2bef7-4789-4c5c-a0b4-591a3c40b13a"
      },
      "execution_count": 31,
      "outputs": [
        {
          "output_type": "stream",
          "name": "stdout",
          "text": [
            "mampir ke toko buah, cari jeruk\n",
            "tidak ada jeruk\n",
            "beli manga aja deh\n"
          ]
        }
      ]
    },
    {
      "cell_type": "code",
      "source": [
        "# dosen\n",
        "# A : [85 - 100]\n",
        "# B : [65 - 85\n",
        "# C : [50 - 65\n",
        "# D : [25 - 50\n",
        "# E : [0 -25\n",
        "\n",
        "nilai = 90\n",
        "if (nilai > 100):\n",
        "  print(\"print nilai A\")\n",
        "elif (nilai >= 85):\n",
        "  print(\"print nilai A\")\n",
        "elif (nilai >= 65):\n",
        "  print(\"print nilai B\")\n",
        "elif (nilai >= 50):\n",
        "  print(\"print nilai C\")\n",
        "elif (nilai >= 25):\n",
        "  print(\"nilai D\")\n",
        "else:\n",
        "  print(\"nilai E\")"
      ],
      "metadata": {
        "colab": {
          "base_uri": "https://localhost:8080/"
        },
        "id": "rrVsGWRt7Ro4",
        "outputId": "ab8e6e91-80d1-4382-958a-9db4a5caac08"
      },
      "execution_count": 38,
      "outputs": [
        {
          "output_type": "stream",
          "name": "stdout",
          "text": [
            "print nilai A\n"
          ]
        }
      ]
    },
    {
      "cell_type": "code",
      "source": [
        ""
      ],
      "metadata": {
        "id": "EGLOP14R_SV_"
      },
      "execution_count": null,
      "outputs": []
    },
    {
      "cell_type": "code",
      "source": [
        "# LOOPING\n",
        "\n",
        "# while\n",
        "ulang = 5\n",
        "while ulang > 0:\n",
        "  print(\"nama saya arisha\")\n",
        "  ulang -= 1"
      ],
      "metadata": {
        "colab": {
          "base_uri": "https://localhost:8080/"
        },
        "id": "I8tY0gDg_VFI",
        "outputId": "c0b547fc-28bf-4063-917a-298ada1c5ddb"
      },
      "execution_count": 40,
      "outputs": [
        {
          "output_type": "stream",
          "name": "stdout",
          "text": [
            "nama saya arisha\n",
            "nama saya arisha\n",
            "nama saya arisha\n",
            "nama saya arisha\n",
            "nama saya arisha\n"
          ]
        }
      ]
    },
    {
      "cell_type": "code",
      "source": [
        "angka = 5\n",
        "angka\n",
        " angka -= 1"
      ],
      "metadata": {
        "colab": {
          "base_uri": "https://localhost:8080/",
          "height": 130
        },
        "id": "oGwaEgFNBvLu",
        "outputId": "6c361b9f-34af-4285-cfa4-336788e6990b"
      },
      "execution_count": 44,
      "outputs": [
        {
          "output_type": "error",
          "ename": "IndentationError",
          "evalue": "ignored",
          "traceback": [
            "\u001b[0;36m  File \u001b[0;32m\"<ipython-input-44-8a1cd26a637f>\"\u001b[0;36m, line \u001b[0;32m3\u001b[0m\n\u001b[0;31m    angka -= 1\u001b[0m\n\u001b[0m    ^\u001b[0m\n\u001b[0;31mIndentationError\u001b[0m\u001b[0;31m:\u001b[0m unexpected indent\n"
          ]
        }
      ]
    },
    {
      "cell_type": "code",
      "source": [
        "# tabel perkalian 7\n",
        "i = 1\n",
        "while i <= 0:\n",
        "  print(f\"{7} x {i} = {7*i}\")\n",
        "  i += 1"
      ],
      "metadata": {
        "id": "z42K031GCIqB"
      },
      "execution_count": 51,
      "outputs": []
    },
    {
      "cell_type": "code",
      "source": [
        "i = 1\n",
        "j = 1\n",
        "while i <= 10:\n",
        "  while j <= 10:\n",
        "  print(f\"{i} x {j} = {j*i}\")\n",
        "  j += 1\n",
        "  print()\n",
        "j = 1\n",
        "i += 1"
      ],
      "metadata": {
        "colab": {
          "base_uri": "https://localhost:8080/",
          "height": 130
        },
        "id": "UwtQYDVmFwsu",
        "outputId": "8bf719e8-1317-41a9-96c1-f83b597d11ea"
      },
      "execution_count": 55,
      "outputs": [
        {
          "output_type": "error",
          "ename": "IndentationError",
          "evalue": "ignored",
          "traceback": [
            "\u001b[0;36m  File \u001b[0;32m\"<ipython-input-55-516656e4b70c>\"\u001b[0;36m, line \u001b[0;32m5\u001b[0m\n\u001b[0;31m    print(f\"{i} x {j} = {j*i}\")\u001b[0m\n\u001b[0m        ^\u001b[0m\n\u001b[0;31mIndentationError\u001b[0m\u001b[0;31m:\u001b[0m expected an indented block\n"
          ]
        }
      ]
    },
    {
      "cell_type": "code",
      "source": [
        "# kalkulator 5 input\n",
        "jml_input = 5\n",
        "hasil = 1\n",
        "while jml_input > 0:\n",
        "  angka = input(\"masukkan angka : \")\n",
        "  hasil *= eval(angka)\n",
        "  jml_input -+ 1\n",
        "print(hasil)"
      ],
      "metadata": {
        "colab": {
          "base_uri": "https://localhost:8080/",
          "height": 217
        },
        "id": "ehIy4WM_DEXd",
        "outputId": "a98d4944-a5b3-4f87-e58c-dbccc9685588"
      },
      "execution_count": 50,
      "outputs": [
        {
          "name": "stdout",
          "output_type": "stream",
          "text": [
            "masukkan angka : 1\n",
            "masukkan angka : 2\n",
            "masukkan angka : 3\n",
            "masukkan angka : 4\n",
            "masukkan angka : \n"
          ]
        },
        {
          "output_type": "error",
          "ename": "SyntaxError",
          "evalue": "ignored",
          "traceback": [
            "\u001b[0;36m  File \u001b[0;32m\"<string>\"\u001b[0;36m, line \u001b[0;32munknown\u001b[0m\n\u001b[0;31m    \u001b[0m\n\u001b[0m    ^\u001b[0m\n\u001b[0;31mSyntaxError\u001b[0m\u001b[0;31m:\u001b[0m unexpected EOF while parsing\n"
          ]
        }
      ]
    },
    {
      "cell_type": "code",
      "source": [
        "# belum Selesai\n",
        "jenis_makanan = []\n",
        "makanan = \"\"\n",
        "while jenis_makanan > 5:\n",
        "  makanan = input(\"Jenis Makanan : \")\n",
        "  if makanan != "
      ],
      "metadata": {
        "id": "QTyr0NoQDoLM"
      },
      "execution_count": null,
      "outputs": []
    },
    {
      "cell_type": "code",
      "source": [
        "# note: belum termasuk harga\n",
        "daftar_pesanan = []\n",
        "pesanan = \"\"\n",
        "while pesanan != \"cukup\":\n",
        "    pesanan = input(\"masukkan pesanan: \")\n",
        "    if(pesanan != \"cukup\"):\n",
        "        daftar_pesanan.append(pesanan)\n",
        "for x in daftar_pesanan:\n",
        "    print(x)"
      ],
      "metadata": {
        "colab": {
          "base_uri": "https://localhost:8080/",
          "height": 536
        },
        "id": "mieE_j_-H5mY",
        "outputId": "dc24e9b7-f5ab-40e5-9f77-62c56048edab"
      },
      "execution_count": 56,
      "outputs": [
        {
          "output_type": "error",
          "ename": "KeyboardInterrupt",
          "evalue": "ignored",
          "traceback": [
            "\u001b[0;31m---------------------------------------------------------------------------\u001b[0m",
            "\u001b[0;31mKeyboardInterrupt\u001b[0m                         Traceback (most recent call last)",
            "\u001b[0;32m/usr/local/lib/python3.7/dist-packages/ipykernel/kernelbase.py\u001b[0m in \u001b[0;36m_input_request\u001b[0;34m(self, prompt, ident, parent, password)\u001b[0m\n\u001b[1;32m    728\u001b[0m             \u001b[0;32mtry\u001b[0m\u001b[0;34m:\u001b[0m\u001b[0;34m\u001b[0m\u001b[0;34m\u001b[0m\u001b[0m\n\u001b[0;32m--> 729\u001b[0;31m                 \u001b[0mident\u001b[0m\u001b[0;34m,\u001b[0m \u001b[0mreply\u001b[0m \u001b[0;34m=\u001b[0m \u001b[0mself\u001b[0m\u001b[0;34m.\u001b[0m\u001b[0msession\u001b[0m\u001b[0;34m.\u001b[0m\u001b[0mrecv\u001b[0m\u001b[0;34m(\u001b[0m\u001b[0mself\u001b[0m\u001b[0;34m.\u001b[0m\u001b[0mstdin_socket\u001b[0m\u001b[0;34m,\u001b[0m \u001b[0;36m0\u001b[0m\u001b[0;34m)\u001b[0m\u001b[0;34m\u001b[0m\u001b[0;34m\u001b[0m\u001b[0m\n\u001b[0m\u001b[1;32m    730\u001b[0m             \u001b[0;32mexcept\u001b[0m \u001b[0mException\u001b[0m\u001b[0;34m:\u001b[0m\u001b[0;34m\u001b[0m\u001b[0;34m\u001b[0m\u001b[0m\n",
            "\u001b[0;32m/usr/local/lib/python3.7/dist-packages/jupyter_client/session.py\u001b[0m in \u001b[0;36mrecv\u001b[0;34m(self, socket, mode, content, copy)\u001b[0m\n\u001b[1;32m    802\u001b[0m         \u001b[0;32mtry\u001b[0m\u001b[0;34m:\u001b[0m\u001b[0;34m\u001b[0m\u001b[0;34m\u001b[0m\u001b[0m\n\u001b[0;32m--> 803\u001b[0;31m             \u001b[0mmsg_list\u001b[0m \u001b[0;34m=\u001b[0m \u001b[0msocket\u001b[0m\u001b[0;34m.\u001b[0m\u001b[0mrecv_multipart\u001b[0m\u001b[0;34m(\u001b[0m\u001b[0mmode\u001b[0m\u001b[0;34m,\u001b[0m \u001b[0mcopy\u001b[0m\u001b[0;34m=\u001b[0m\u001b[0mcopy\u001b[0m\u001b[0;34m)\u001b[0m\u001b[0;34m\u001b[0m\u001b[0;34m\u001b[0m\u001b[0m\n\u001b[0m\u001b[1;32m    804\u001b[0m         \u001b[0;32mexcept\u001b[0m \u001b[0mzmq\u001b[0m\u001b[0;34m.\u001b[0m\u001b[0mZMQError\u001b[0m \u001b[0;32mas\u001b[0m \u001b[0me\u001b[0m\u001b[0;34m:\u001b[0m\u001b[0;34m\u001b[0m\u001b[0;34m\u001b[0m\u001b[0m\n",
            "\u001b[0;32m/usr/local/lib/python3.7/dist-packages/zmq/sugar/socket.py\u001b[0m in \u001b[0;36mrecv_multipart\u001b[0;34m(self, flags, copy, track)\u001b[0m\n\u001b[1;32m    624\u001b[0m         \"\"\"\n\u001b[0;32m--> 625\u001b[0;31m         \u001b[0mparts\u001b[0m \u001b[0;34m=\u001b[0m \u001b[0;34m[\u001b[0m\u001b[0mself\u001b[0m\u001b[0;34m.\u001b[0m\u001b[0mrecv\u001b[0m\u001b[0;34m(\u001b[0m\u001b[0mflags\u001b[0m\u001b[0;34m,\u001b[0m \u001b[0mcopy\u001b[0m\u001b[0;34m=\u001b[0m\u001b[0mcopy\u001b[0m\u001b[0;34m,\u001b[0m \u001b[0mtrack\u001b[0m\u001b[0;34m=\u001b[0m\u001b[0mtrack\u001b[0m\u001b[0;34m)\u001b[0m\u001b[0;34m]\u001b[0m\u001b[0;34m\u001b[0m\u001b[0;34m\u001b[0m\u001b[0m\n\u001b[0m\u001b[1;32m    626\u001b[0m         \u001b[0;31m# have first part already, only loop while more to receive\u001b[0m\u001b[0;34m\u001b[0m\u001b[0;34m\u001b[0m\u001b[0;34m\u001b[0m\u001b[0m\n",
            "\u001b[0;32mzmq/backend/cython/socket.pyx\u001b[0m in \u001b[0;36mzmq.backend.cython.socket.Socket.recv\u001b[0;34m()\u001b[0m\n",
            "\u001b[0;32mzmq/backend/cython/socket.pyx\u001b[0m in \u001b[0;36mzmq.backend.cython.socket.Socket.recv\u001b[0;34m()\u001b[0m\n",
            "\u001b[0;32mzmq/backend/cython/socket.pyx\u001b[0m in \u001b[0;36mzmq.backend.cython.socket._recv_copy\u001b[0;34m()\u001b[0m\n",
            "\u001b[0;32m/usr/local/lib/python3.7/dist-packages/zmq/backend/cython/checkrc.pxd\u001b[0m in \u001b[0;36mzmq.backend.cython.checkrc._check_rc\u001b[0;34m()\u001b[0m\n",
            "\u001b[0;31mKeyboardInterrupt\u001b[0m: ",
            "\nDuring handling of the above exception, another exception occurred:\n",
            "\u001b[0;31mKeyboardInterrupt\u001b[0m                         Traceback (most recent call last)",
            "\u001b[0;32m<ipython-input-56-76f0514371ef>\u001b[0m in \u001b[0;36m<module>\u001b[0;34m()\u001b[0m\n\u001b[1;32m      3\u001b[0m \u001b[0mpesanan\u001b[0m \u001b[0;34m=\u001b[0m \u001b[0;34m\"\"\u001b[0m\u001b[0;34m\u001b[0m\u001b[0;34m\u001b[0m\u001b[0m\n\u001b[1;32m      4\u001b[0m \u001b[0;32mwhile\u001b[0m \u001b[0mpesanan\u001b[0m \u001b[0;34m!=\u001b[0m \u001b[0;34m\"cukup\"\u001b[0m\u001b[0;34m:\u001b[0m\u001b[0;34m\u001b[0m\u001b[0;34m\u001b[0m\u001b[0m\n\u001b[0;32m----> 5\u001b[0;31m     \u001b[0mpesanan\u001b[0m \u001b[0;34m=\u001b[0m \u001b[0minput\u001b[0m\u001b[0;34m(\u001b[0m\u001b[0;34m\"masukkan pesanan: \"\u001b[0m\u001b[0;34m)\u001b[0m\u001b[0;34m\u001b[0m\u001b[0;34m\u001b[0m\u001b[0m\n\u001b[0m\u001b[1;32m      6\u001b[0m     \u001b[0;32mif\u001b[0m\u001b[0;34m(\u001b[0m\u001b[0mpesanan\u001b[0m \u001b[0;34m!=\u001b[0m \u001b[0;34m\"cukup\"\u001b[0m\u001b[0;34m)\u001b[0m\u001b[0;34m:\u001b[0m\u001b[0;34m\u001b[0m\u001b[0;34m\u001b[0m\u001b[0m\n\u001b[1;32m      7\u001b[0m         \u001b[0mdaftar_pesanan\u001b[0m\u001b[0;34m.\u001b[0m\u001b[0mappend\u001b[0m\u001b[0;34m(\u001b[0m\u001b[0mpesanan\u001b[0m\u001b[0;34m)\u001b[0m\u001b[0;34m\u001b[0m\u001b[0;34m\u001b[0m\u001b[0m\n",
            "\u001b[0;32m/usr/local/lib/python3.7/dist-packages/ipykernel/kernelbase.py\u001b[0m in \u001b[0;36mraw_input\u001b[0;34m(self, prompt)\u001b[0m\n\u001b[1;32m    702\u001b[0m             \u001b[0mself\u001b[0m\u001b[0;34m.\u001b[0m\u001b[0m_parent_ident\u001b[0m\u001b[0;34m,\u001b[0m\u001b[0;34m\u001b[0m\u001b[0;34m\u001b[0m\u001b[0m\n\u001b[1;32m    703\u001b[0m             \u001b[0mself\u001b[0m\u001b[0;34m.\u001b[0m\u001b[0m_parent_header\u001b[0m\u001b[0;34m,\u001b[0m\u001b[0;34m\u001b[0m\u001b[0;34m\u001b[0m\u001b[0m\n\u001b[0;32m--> 704\u001b[0;31m             \u001b[0mpassword\u001b[0m\u001b[0;34m=\u001b[0m\u001b[0;32mFalse\u001b[0m\u001b[0;34m,\u001b[0m\u001b[0;34m\u001b[0m\u001b[0;34m\u001b[0m\u001b[0m\n\u001b[0m\u001b[1;32m    705\u001b[0m         )\n\u001b[1;32m    706\u001b[0m \u001b[0;34m\u001b[0m\u001b[0m\n",
            "\u001b[0;32m/usr/local/lib/python3.7/dist-packages/ipykernel/kernelbase.py\u001b[0m in \u001b[0;36m_input_request\u001b[0;34m(self, prompt, ident, parent, password)\u001b[0m\n\u001b[1;32m    732\u001b[0m             \u001b[0;32mexcept\u001b[0m \u001b[0mKeyboardInterrupt\u001b[0m\u001b[0;34m:\u001b[0m\u001b[0;34m\u001b[0m\u001b[0;34m\u001b[0m\u001b[0m\n\u001b[1;32m    733\u001b[0m                 \u001b[0;31m# re-raise KeyboardInterrupt, to truncate traceback\u001b[0m\u001b[0;34m\u001b[0m\u001b[0;34m\u001b[0m\u001b[0;34m\u001b[0m\u001b[0m\n\u001b[0;32m--> 734\u001b[0;31m                 \u001b[0;32mraise\u001b[0m \u001b[0mKeyboardInterrupt\u001b[0m\u001b[0;34m\u001b[0m\u001b[0;34m\u001b[0m\u001b[0m\n\u001b[0m\u001b[1;32m    735\u001b[0m             \u001b[0;32melse\u001b[0m\u001b[0;34m:\u001b[0m\u001b[0;34m\u001b[0m\u001b[0;34m\u001b[0m\u001b[0m\n\u001b[1;32m    736\u001b[0m                 \u001b[0;32mbreak\u001b[0m\u001b[0;34m\u001b[0m\u001b[0;34m\u001b[0m\u001b[0m\n",
            "\u001b[0;31mKeyboardInterrupt\u001b[0m: "
          ]
        }
      ]
    },
    {
      "cell_type": "code",
      "source": [
        "pesanan = []\n",
        "while pesanan_input != 'cukup':\n",
        "    pesanan_input = input (\"Apa pesanan anda?\")\n",
        "    pesanan.append(pesanan_input)\n",
        "print(pesanan)\n"
      ],
      "metadata": {
        "id": "zVQlM63KH_Bf"
      },
      "execution_count": null,
      "outputs": []
    },
    {
      "cell_type": "code",
      "source": [
        "nilai = 24\n",
        "if nilai >= 85 :\n",
        "  print(f\" nilai kamu adalah nilai A\")\n",
        "elif nilai >= 65 :\n",
        "  print(f\" nilai kamu adalah adalah B\")\n",
        "elif nilai >= 50 :\n",
        "  print(f\" nilai kamu adalah nilai C\")\n",
        "elif nilai >= 25 :\n",
        "  print(f\" nilai kamu adalah nilai D\")\n",
        "else:\n",
        "  print(f\" nilai kamu adalah nilai E\")\n"
      ],
      "metadata": {
        "id": "O1r91CnyH-2M"
      },
      "execution_count": null,
      "outputs": []
    },
    {
      "cell_type": "code",
      "source": [
        "nilai = 77\n",
        "if 100 >= nilai >= 85:\n",
        "  print(\"nilai A\")\n",
        "elif 85 > nilai >= 65:\n",
        "  print(\"nilai B\")\n",
        "elif 65 > nilai >= 50:\n",
        "  print(\"nilai C\")\n",
        "elif 50 > nilai >= 25:\n",
        "  print(\"nilai D\")\n",
        "elif 25> nilai >= 0:\n",
        "  print(\"nilai E\")\n",
        "else:\n",
        "  print(\"nilai E\")\n"
      ],
      "metadata": {
        "id": "J5UE9WEgIGFf"
      },
      "execution_count": null,
      "outputs": []
    },
    {
      "cell_type": "code",
      "source": [
        "buahbuahan = [\"pepaya\", \"manga\", \"pisang\", \"jambu\"]\n",
        "for buah in buahbuahan:\n",
        "  print(f\"buah yang tersedia adalah {buah}\")"
      ],
      "metadata": {
        "colab": {
          "base_uri": "https://localhost:8080/"
        },
        "id": "rWwXOz0FIImT",
        "outputId": "b5fd897c-4425-4824-dc27-5ae710378779"
      },
      "execution_count": 57,
      "outputs": [
        {
          "output_type": "stream",
          "name": "stdout",
          "text": [
            "buah yang tersedia adalah pepaya\n",
            "buah yang tersedia adalah manga\n",
            "buah yang tersedia adalah pisang\n",
            "buah yang tersedia adalah jambu\n"
          ]
        }
      ]
    },
    {
      "cell_type": "code",
      "source": [
        "for i in range (len(buahbuahan)):\n",
        "  print (f\"buah yang tersedia adalah {buahbuahan[i]}\")"
      ],
      "metadata": {
        "colab": {
          "base_uri": "https://localhost:8080/"
        },
        "id": "rA8tL-iKIIGs",
        "outputId": "ae2a573a-a5f4-4bb4-8c93-2015462aed7b"
      },
      "execution_count": 58,
      "outputs": [
        {
          "output_type": "stream",
          "name": "stdout",
          "text": [
            "buah yang tersedia adalah pepaya\n",
            "buah yang tersedia adalah manga\n",
            "buah yang tersedia adalah pisang\n",
            "buah yang tersedia adalah jambu\n"
          ]
        }
      ]
    },
    {
      "cell_type": "code",
      "source": [
        "for i in range(1,11):\n",
        "  print(f\"{7} x {i} = {7*i}\")"
      ],
      "metadata": {
        "colab": {
          "base_uri": "https://localhost:8080/"
        },
        "id": "BUPXsxrUJf5W",
        "outputId": "ef99e9c4-c2c0-4521-9528-e7c1f864a494"
      },
      "execution_count": 59,
      "outputs": [
        {
          "output_type": "stream",
          "name": "stdout",
          "text": [
            "7 x 1 = 7\n",
            "7 x 2 = 14\n",
            "7 x 3 = 21\n",
            "7 x 4 = 28\n",
            "7 x 5 = 35\n",
            "7 x 6 = 42\n",
            "7 x 7 = 49\n",
            "7 x 8 = 56\n",
            "7 x 9 = 63\n",
            "7 x 10 = 70\n"
          ]
        }
      ]
    },
    {
      "cell_type": "code",
      "source": [
        "for i in range(1,11):\n",
        "  for j in range(1,11):\n",
        "    print(f\"{i} x {j} = {i*j}\")\n",
        "  print()"
      ],
      "metadata": {
        "colab": {
          "base_uri": "https://localhost:8080/"
        },
        "id": "XhyQFg_7JxTo",
        "outputId": "9ef87448-f5df-4e64-de5a-9492c4763d5c"
      },
      "execution_count": 61,
      "outputs": [
        {
          "output_type": "stream",
          "name": "stdout",
          "text": [
            "1 x 1 = 1\n",
            "1 x 2 = 2\n",
            "1 x 3 = 3\n",
            "1 x 4 = 4\n",
            "1 x 5 = 5\n",
            "1 x 6 = 6\n",
            "1 x 7 = 7\n",
            "1 x 8 = 8\n",
            "1 x 9 = 9\n",
            "1 x 10 = 10\n",
            "\n",
            "2 x 1 = 2\n",
            "2 x 2 = 4\n",
            "2 x 3 = 6\n",
            "2 x 4 = 8\n",
            "2 x 5 = 10\n",
            "2 x 6 = 12\n",
            "2 x 7 = 14\n",
            "2 x 8 = 16\n",
            "2 x 9 = 18\n",
            "2 x 10 = 20\n",
            "\n",
            "3 x 1 = 3\n",
            "3 x 2 = 6\n",
            "3 x 3 = 9\n",
            "3 x 4 = 12\n",
            "3 x 5 = 15\n",
            "3 x 6 = 18\n",
            "3 x 7 = 21\n",
            "3 x 8 = 24\n",
            "3 x 9 = 27\n",
            "3 x 10 = 30\n",
            "\n",
            "4 x 1 = 4\n",
            "4 x 2 = 8\n",
            "4 x 3 = 12\n",
            "4 x 4 = 16\n",
            "4 x 5 = 20\n",
            "4 x 6 = 24\n",
            "4 x 7 = 28\n",
            "4 x 8 = 32\n",
            "4 x 9 = 36\n",
            "4 x 10 = 40\n",
            "\n",
            "5 x 1 = 5\n",
            "5 x 2 = 10\n",
            "5 x 3 = 15\n",
            "5 x 4 = 20\n",
            "5 x 5 = 25\n",
            "5 x 6 = 30\n",
            "5 x 7 = 35\n",
            "5 x 8 = 40\n",
            "5 x 9 = 45\n",
            "5 x 10 = 50\n",
            "\n",
            "6 x 1 = 6\n",
            "6 x 2 = 12\n",
            "6 x 3 = 18\n",
            "6 x 4 = 24\n",
            "6 x 5 = 30\n",
            "6 x 6 = 36\n",
            "6 x 7 = 42\n",
            "6 x 8 = 48\n",
            "6 x 9 = 54\n",
            "6 x 10 = 60\n",
            "\n",
            "7 x 1 = 7\n",
            "7 x 2 = 14\n",
            "7 x 3 = 21\n",
            "7 x 4 = 28\n",
            "7 x 5 = 35\n",
            "7 x 6 = 42\n",
            "7 x 7 = 49\n",
            "7 x 8 = 56\n",
            "7 x 9 = 63\n",
            "7 x 10 = 70\n",
            "\n",
            "8 x 1 = 8\n",
            "8 x 2 = 16\n",
            "8 x 3 = 24\n",
            "8 x 4 = 32\n",
            "8 x 5 = 40\n",
            "8 x 6 = 48\n",
            "8 x 7 = 56\n",
            "8 x 8 = 64\n",
            "8 x 9 = 72\n",
            "8 x 10 = 80\n",
            "\n",
            "9 x 1 = 9\n",
            "9 x 2 = 18\n",
            "9 x 3 = 27\n",
            "9 x 4 = 36\n",
            "9 x 5 = 45\n",
            "9 x 6 = 54\n",
            "9 x 7 = 63\n",
            "9 x 8 = 72\n",
            "9 x 9 = 81\n",
            "9 x 10 = 90\n",
            "\n",
            "10 x 1 = 10\n",
            "10 x 2 = 20\n",
            "10 x 3 = 30\n",
            "10 x 4 = 40\n",
            "10 x 5 = 50\n",
            "10 x 6 = 60\n",
            "10 x 7 = 70\n",
            "10 x 8 = 80\n",
            "10 x 9 = 90\n",
            "10 x 10 = 100\n",
            "\n"
          ]
        }
      ]
    },
    {
      "cell_type": "code",
      "source": [
        "# Keyword dalam LOOPING adalah Break dan Continue\n",
        "for i in range(1,11):\n",
        "  if i == 4:\n",
        "    break\n",
        "  print(i)"
      ],
      "metadata": {
        "colab": {
          "base_uri": "https://localhost:8080/"
        },
        "id": "zbXEHiMCKMye",
        "outputId": "493fccb6-fac7-4ce3-ecc5-7fc556ff8d1c"
      },
      "execution_count": 62,
      "outputs": [
        {
          "output_type": "stream",
          "name": "stdout",
          "text": [
            "1\n",
            "2\n",
            "3\n"
          ]
        }
      ]
    },
    {
      "cell_type": "code",
      "source": [
        "# Keyword dalam LOOPING adalah Break dan Continue\n",
        "for i in range(1,11):\n",
        "  if i == 4:\n",
        "    continue\n",
        "  print(i)"
      ],
      "metadata": {
        "colab": {
          "base_uri": "https://localhost:8080/"
        },
        "id": "Ly3i5bNjK5K5",
        "outputId": "347f5be4-eade-4556-9452-01b75a54dcbb"
      },
      "execution_count": 63,
      "outputs": [
        {
          "output_type": "stream",
          "name": "stdout",
          "text": [
            "1\n",
            "2\n",
            "3\n",
            "5\n",
            "6\n",
            "7\n",
            "8\n",
            "9\n",
            "10\n"
          ]
        }
      ]
    },
    {
      "cell_type": "code",
      "source": [
        "i = 1\n",
        "while i <= 10:\n",
        "  if i == 4:\n",
        "    break\n",
        "  print(i)\n",
        "  i += 1"
      ],
      "metadata": {
        "colab": {
          "base_uri": "https://localhost:8080/"
        },
        "id": "vi8oxL-HLSaL",
        "outputId": "34da506d-75b1-4faa-a82b-4e1708b37f53"
      },
      "execution_count": 65,
      "outputs": [
        {
          "output_type": "stream",
          "name": "stdout",
          "text": [
            "1\n",
            "2\n",
            "3\n"
          ]
        }
      ]
    },
    {
      "cell_type": "code",
      "source": [
        "# penggunan while dengan continue\n",
        "i = 1\n",
        "while i <= 10:\n",
        "  if i == 4:\n",
        "    continue # Tidak bisa dilanjutkan karena sebelum update variabel\n",
        "  print(i)\n",
        "  i += 1"
      ],
      "metadata": {
        "colab": {
          "base_uri": "https://localhost:8080/",
          "height": 286
        },
        "id": "-l2wPuVmLzwG",
        "outputId": "c4eeb4e9-11e3-45d3-a563-0e7306130e6a"
      },
      "execution_count": 66,
      "outputs": [
        {
          "output_type": "stream",
          "name": "stdout",
          "text": [
            "1\n",
            "2\n",
            "3\n"
          ]
        },
        {
          "output_type": "error",
          "ename": "KeyboardInterrupt",
          "evalue": "ignored",
          "traceback": [
            "\u001b[0;31m---------------------------------------------------------------------------\u001b[0m",
            "\u001b[0;31mKeyboardInterrupt\u001b[0m                         Traceback (most recent call last)",
            "\u001b[0;32m<ipython-input-66-4d50daf4cb08>\u001b[0m in \u001b[0;36m<module>\u001b[0;34m()\u001b[0m\n\u001b[1;32m      1\u001b[0m \u001b[0mi\u001b[0m \u001b[0;34m=\u001b[0m \u001b[0;36m1\u001b[0m\u001b[0;34m\u001b[0m\u001b[0;34m\u001b[0m\u001b[0m\n\u001b[0;32m----> 2\u001b[0;31m \u001b[0;32mwhile\u001b[0m \u001b[0mi\u001b[0m \u001b[0;34m<=\u001b[0m \u001b[0;36m10\u001b[0m\u001b[0;34m:\u001b[0m\u001b[0;34m\u001b[0m\u001b[0;34m\u001b[0m\u001b[0m\n\u001b[0m\u001b[1;32m      3\u001b[0m   \u001b[0;32mif\u001b[0m \u001b[0mi\u001b[0m \u001b[0;34m==\u001b[0m \u001b[0;36m4\u001b[0m\u001b[0;34m:\u001b[0m\u001b[0;34m\u001b[0m\u001b[0;34m\u001b[0m\u001b[0m\n\u001b[1;32m      4\u001b[0m     \u001b[0;32mcontinue\u001b[0m\u001b[0;34m\u001b[0m\u001b[0;34m\u001b[0m\u001b[0m\n\u001b[1;32m      5\u001b[0m   \u001b[0mprint\u001b[0m\u001b[0;34m(\u001b[0m\u001b[0mi\u001b[0m\u001b[0;34m)\u001b[0m\u001b[0;34m\u001b[0m\u001b[0;34m\u001b[0m\u001b[0m\n",
            "\u001b[0;31mKeyboardInterrupt\u001b[0m: "
          ]
        }
      ]
    },
    {
      "cell_type": "code",
      "source": [
        "# penggunan while dengan continue (yang benar)\n",
        "i = 1\n",
        "while i <= 10:\n",
        "  if i == 4:\n",
        "    i += 1\n",
        "  continue # Tidak bisa dilanjutkan karena sebelum update variabel\n",
        "  print(i)\n",
        "  "
      ],
      "metadata": {
        "colab": {
          "base_uri": "https://localhost:8080/",
          "height": 234
        },
        "id": "SFu2VkmMMNtz",
        "outputId": "21f304cc-1245-4c04-f055-5b2a78e7b80c"
      },
      "execution_count": 69,
      "outputs": [
        {
          "output_type": "error",
          "ename": "KeyboardInterrupt",
          "evalue": "ignored",
          "traceback": [
            "\u001b[0;31m---------------------------------------------------------------------------\u001b[0m",
            "\u001b[0;31mKeyboardInterrupt\u001b[0m                         Traceback (most recent call last)",
            "\u001b[0;32m<ipython-input-69-2b5e5b534983>\u001b[0m in \u001b[0;36m<module>\u001b[0;34m()\u001b[0m\n\u001b[1;32m      2\u001b[0m \u001b[0mi\u001b[0m \u001b[0;34m=\u001b[0m \u001b[0;36m1\u001b[0m\u001b[0;34m\u001b[0m\u001b[0;34m\u001b[0m\u001b[0m\n\u001b[1;32m      3\u001b[0m \u001b[0;32mwhile\u001b[0m \u001b[0mi\u001b[0m \u001b[0;34m<=\u001b[0m \u001b[0;36m10\u001b[0m\u001b[0;34m:\u001b[0m\u001b[0;34m\u001b[0m\u001b[0;34m\u001b[0m\u001b[0m\n\u001b[0;32m----> 4\u001b[0;31m   \u001b[0;32mif\u001b[0m \u001b[0mi\u001b[0m \u001b[0;34m==\u001b[0m \u001b[0;36m4\u001b[0m\u001b[0;34m:\u001b[0m\u001b[0;34m\u001b[0m\u001b[0;34m\u001b[0m\u001b[0m\n\u001b[0m\u001b[1;32m      5\u001b[0m     \u001b[0mi\u001b[0m \u001b[0;34m+=\u001b[0m \u001b[0;36m1\u001b[0m\u001b[0;34m\u001b[0m\u001b[0;34m\u001b[0m\u001b[0m\n\u001b[1;32m      6\u001b[0m   \u001b[0;32mcontinue\u001b[0m \u001b[0;31m# Tidak bisa dilanjutkan karena sebelum update variabel\u001b[0m\u001b[0;34m\u001b[0m\u001b[0;34m\u001b[0m\u001b[0m\n",
            "\u001b[0;31mKeyboardInterrupt\u001b[0m: "
          ]
        }
      ]
    }
  ]
}